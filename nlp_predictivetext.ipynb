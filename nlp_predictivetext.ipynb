{
 "cells": [
  {
   "cell_type": "code",
   "execution_count": 1,
   "id": "83083acf",
   "metadata": {},
   "outputs": [],
   "source": [
    "# Predictive Text Generation\n",
    "\n",
    "##Import Libraries\n",
    "\n",
    "import tensorflow as tf\n",
    "from tensorflow.keras.preprocessing.sequence import pad_sequences\n",
    "from tensorflow.keras.layers import Embedding, LSTM, Dense, Bidirectional\n",
    "from tensorflow.keras.preprocessing.text import Tokenizer\n",
    "from tensorflow.keras.models import Sequential\n",
    "from tensorflow.keras.optimizers import Adam\n",
    "import numpy as np \n",
    "import pandas as pd"
   ]
  },
  {
   "cell_type": "code",
   "execution_count": 2,
   "id": "c15f696b",
   "metadata": {},
   "outputs": [],
   "source": [
    "def tokenize_corpus(corpus):\n",
    "    \n",
    "    tokenizer = Tokenizer()\n",
    "    tokenizer.fit_on_texts(corpus)\n",
    "    total_words = len(tokenizer.word_index) + 1\n",
    "    input_sequences = []\n",
    "    for line in corpus:\n",
    "        token_list = tokenizer.texts_to_sequences([line])[0]\n",
    "        for i in range(1, len(token_list)):\n",
    "            n_gram_sequence = token_list[:i+1]\n",
    "            input_sequences.append(n_gram_sequence)\n",
    "\n",
    "    # pad sequences \n",
    "    max_sequence_len = max([len(x) for x in input_sequences])\n",
    "    input_sequences = np.array(pad_sequences(input_sequences, maxlen=max_sequence_len, padding='pre'))\n",
    "\n",
    "    # create predictors and label\n",
    "    xs, labels = input_sequences[:,:-1],input_sequences[:,-1]\n",
    "\n",
    "    ys = tf.keras.utils.to_categorical(labels, num_classes=total_words)\n",
    "    \n",
    "    return xs, ys, total_words, max_sequence_len, tokenizer\n",
    "\n",
    "# print(tokenizer.word_index)"
   ]
  },
  {
   "cell_type": "code",
   "execution_count": 3,
   "id": "a1957aeb",
   "metadata": {},
   "outputs": [],
   "source": [
    "def model_generator(total_words, xs, ys, max_sequence_len, epoch):\n",
    "    model = Sequential()\n",
    "    model.add(Embedding(total_words, 100, input_length=max_sequence_len-1))\n",
    "    model.add(Bidirectional(LSTM(150)))\n",
    "    model.add(Dense(total_words, activation='softmax'))\n",
    "    adam = Adam(learning_rate=0.01)\n",
    "    model.compile(loss='categorical_crossentropy', optimizer=adam, metrics=['accuracy'])\n",
    "    earlystop = tf.keras.callbacks.EarlyStopping(monitor='val_loss', min_delta=0, patience=5, verbose=0, mode='auto')\n",
    "    history = model.fit(xs, ys, epochs=epoch, verbose=0)\n",
    "    return model"
   ]
  },
  {
   "cell_type": "code",
   "execution_count": 4,
   "id": "9606205f",
   "metadata": {},
   "outputs": [],
   "source": [
    "def to_text(tokenizer, model, max_sequence_len, seed_text):\n",
    "    \n",
    "    next_words = 100\n",
    "\n",
    "    for _ in range(next_words):\n",
    "        token_list = tokenizer.texts_to_sequences([seed_text])[0]\n",
    "        token_list = pad_sequences([token_list], maxlen=max_sequence_len-1, padding='pre')\n",
    "        predicted = np.argmax(model.predict(token_list, verbose = 0), axis=-1)\n",
    "        output_word = \"\"\n",
    "        for word, index in tokenizer.word_index.items():\n",
    "            if index == predicted:\n",
    "                output_word = word\n",
    "                break\n",
    "        seed_text += \" \" + output_word\n",
    "    return seed_text"
   ]
  },
  {
   "cell_type": "code",
   "execution_count": 5,
   "id": "d01c8167",
   "metadata": {},
   "outputs": [],
   "source": [
    "def to_corpus(text):\n",
    "    corpus = text\n",
    "    corpus = corpus.split(\". \")\n",
    "    corpus = [i.lower() for i in corpus]\n",
    "    return corpus"
   ]
  },
  {
   "cell_type": "code",
   "execution_count": 6,
   "id": "f841d6c6",
   "metadata": {},
   "outputs": [],
   "source": [
    "def text_generator(data, text_question, groups, epoch, seed_text):\n",
    "    \n",
    "    text_predictions = []\n",
    "\n",
    "    for group in groups:\n",
    "\n",
    "        temp = data[text_question].loc[data['targetgroup']==group]\n",
    "        \n",
    "        if (temp.empty):\n",
    "            continue\n",
    "        else:\n",
    "            temp = temp.str.cat(sep=' ')\n",
    "            corpus = to_corpus(temp)\n",
    "            x, y, total_words, max_seq_len, tokenizer = tokenize_corpus(corpus)\n",
    "            model = model_generator(total_words, x, y, max_seq_len, epoch)\n",
    "            predicted_text = to_text(tokenizer, model, max_seq_len, seed_text)\n",
    "            print(group, '\\n', predicted_text)\n",
    "            text_predictions.append([group, text_question, seed_text, predicted_text])\n",
    "            \n",
    "    return text_predictions"
   ]
  },
  {
   "cell_type": "code",
   "execution_count": 7,
   "id": "aggregate-staff",
   "metadata": {},
   "outputs": [],
   "source": [
    "def varied_seed_txt(data, textqs, groups, seed_text, epoch):\n",
    "    \n",
    "    predictions = pd.DataFrame()\n",
    "    \n",
    "    for i in range(len(textqs)):\n",
    "    \n",
    "        print(textqs[i])\n",
    "        pred_text = pd.DataFrame(text_generator(df, textqs[i], groups, epoch, seed_text[i]))\n",
    "        predictions = pd.concat([predictions, pred_text], axis=0)\n",
    "        \n",
    "    predictions = predictions.rename(columns={0: \"Group\", 1: \"Question\", 2: \"Seed Text\", 3: \"Predicted Text\"})\n",
    "\n",
    "    return predictions"
   ]
  },
  {
   "cell_type": "code",
   "execution_count": 8,
   "id": "e5f6af70",
   "metadata": {
    "scrolled": true
   },
   "outputs": [],
   "source": [
    "from pathlib import Path\n",
    "filepath = Path('Research/cleaneddata1.csv')\n",
    "df = pd.read_csv(filepath)"
   ]
  },
  {
   "cell_type": "code",
   "execution_count": 9,
   "id": "digital-healthcare",
   "metadata": {
    "scrolled": true
   },
   "outputs": [
    {
     "name": "stdout",
     "output_type": "stream",
     "text": [
      "cw_maincause\n",
      "White Conservative \n",
      " the main cause of the civil war was rights rights rights rights rights rights the the the the the the of of of of of of of slavery the the the the the the the of of of of of rights the the the the the the the the of of of of the the the the the the the the of the the the the the the the the the the the of of of the and the the the the the the the the of of of of the the the the the the the the the of of of of the the the the the\n",
      "White Liberal \n",
      " the main cause of the civil war was the the the the the the the the the the the the the the the the the the the the the the the the the the the the the the the the the the the the the the the the the the the the the the the the the the the the the the the the the the the the the the the the the the the the the the the the the the the the the the the the of freedom freedom contentious of of south see main were the south society society society society society society society society\n",
      "Black Conservative \n",
      " the main cause of the civil war was civil civil civil civil civil civil civil war civil civil civil war civil civil civil civil civil civil civil civil civil war civil war civil war civil war civil civil civil civil civil civil civil civil civil war civil war war war war war war war war war war war war war war war war war war war war war war war war war war war war war war war war war war war war war war war war war war war war war war civil civil civil civil civil civil war war war war war war civil civil civil\n",
      "Black Non-Conservative \n",
      " the main cause of the civil war was of of of of of of of of of of of of of of of of of of of of of of of of of of of of of of of of of of of of of of of of of of of of of of of of of of of of of of of of of of of of of of of of of of of the of of of the the the the of of of of of of of of of of of of of of of of of of of of of of of of of\n",
      "cw_slaverysince\n",
      "White Conservative \n",
      " since the civil war slavery has been dealt with by the civil the civil the civil the civil the civil the civil the civil the civil the civil the civil the civil the civil the civil the civil the civil the civil the civil the civil the civil the civil the civil the civil the civil the civil the civil the civil the civil the civil the civil the civil the civil the civil the civil the civil the civil the civil the civil the civil the civil the civil the civil the civil the civil the civil the civil the civil the civil the civil the civil the civil\n",
      "White Liberal \n",
      " since the civil war slavery has been dealt with by the the the the the the the the the the the the the the the the the the the the the the the the the the the the the the the the the the the the the the the the the the the the the the the the the way and the the the the the the the way freedom and the bigotry freedom and the bigotry freedom and the freedom bigotry bigotry is the the freedom way the the way freedom bigotry basic basic basic basic basic keep the the the the the the way freedom basic basic basic\n",
      "Black Conservative \n",
      " since the civil war slavery has been dealt with by the the the it has has has has has has has has has has has has has has has has has has has has has has has has has has has has has has has has has has has has has has has has has has has has has has has has has has has has has has has has has has has has has has has has has has has has has has has has has has has has has has has has has has has has has has has has has has has has has has has has\n",
      "Black Non-Conservative \n",
      " since the civil war slavery has been dealt with by the war it has been dealt with the war it has been dealt with the war it has been dealt with the war it has been dealt with the war it has been dealt with the war it has been dealt with the war it has been dealt with the war it has been dealt with the war it has been dealt with the war it has been dealt with the war it has been dealt with the war it has been dealt with the war it has been dealt with the war it has been dealt with the war\n",
      "cw_causessince\n",
      "White Conservative \n",
      " since the civil war the causes ofslavery have been dealt with by the the the to the the the the the the the the the the the the the the the the the the the the the the the the the the the the the the the the the the the the the the the the the the the the the the the the the the the the the the the the of of of taken of conversation ended abraha upon the the of of of taken taken copy become try try better better like the of conversation become of while ended to the try of conversation of conversation ended better was\n",
      "White Liberal \n",
      " since the civil war the causes ofslavery have been dealt with by the the the the the the the the the the the the the the the the the the the the the the the the the the the the the the the the the the the the the the the the the the the the the the that blacks blacks blacks remains remains changed changed changed changed changed changed changed changed changed changed changed changed changed changed changed changed changed changed changed changed changed changed changed changed changed changed changed changed changed changed changed changed changed changed changed changed changed changed changed changed changed changed changed changed changed changed changed changed\n",
      "Black Conservative \n",
      " since the civil war the causes ofslavery have been dealt with by so so so so so so so so so so so so so so so so so see see see see see see see see see so so so so so so so so so so so so so so so see see see see see see see see see see see so so so so so so so so so so so so so and the the the the the the the the the the the the the the the getting getting so so so so so so so so i and the the the the the the the\n",
      "Black Non-Conservative \n",
      " since the civil war the causes ofslavery have been dealt with by the the the the the the the the the the the the the the the the the the the the the the the the the the the the the the the the the the the the the the the the the the the the the the the the the the the the the the the the the the the the the the the the the the the the the the the the the the the the the the the the the the the the the the the the the the the the the the the the the the the the\n",
      "cr_progress\n",
      "White Conservative \n",
      " progress towards the main goals of the civil rights movement have been prevented by the the of the the the the the the the the the the the the the the the the the the the the the the the the the the the the the the the the the the the the the the the the the the the the the the the the the the the the the the the the the the the the the the the the the the of the the the the the the because the because the initially dr initially sex the the the of of the the the war sex resolved the the lack of the\n",
      "White Liberal \n",
      " progress towards the main goals of the civil rights movement have been prevented by the civil rights the civil rights the civil rights the civil rights the civil rights the civil rights the civil rights the civil rights the civil rights the civil rights the civil rights the civil rights the civil rights the civil rights the civil rights the civil rights the civil rights the civil rights the civil rights the civil rights the civil rights the civil rights the civil rights the civil rights the educational upward noticed constantly noticed the noticed the noticed to noticed to noticed to noticed to noticed to noticed and noticed the noticed to noticed and noticed\n",
      "Black Conservative \n",
      " progress towards the main goals of the civil rights movement have been prevented by the the the the the the the the of the the of the the of of the the of the the of of the the of the of the the of of the the of of the the of the of the the of of the the of of the the of the of the the of of the the of of the the of the of the the of of the the of of the the of the of the the of of the the of of the the of the the of the of the the of the\n",
      "Black Non-Conservative \n",
      " progress towards the main goals of the civil rights movement have been prevented by the the the the the the the the the the the the the the the the the the the the the the the the the the the the the the the the the the the the the the the the the the the the the the the the the the the the the the the the the the the the the the the the the the the the the the the the the the the the the the the the the the the the the the the the the the the the the the the the the the the the\n",
      "cr_achieved\n"
     ]
    },
    {
     "name": "stdout",
     "output_type": "stream",
     "text": [
      "White Conservative \n",
      " the goals of the civil rights movement have been achieved because to the rights of the rights of the rights of the rights of the rights of the rights of the rights of the rights of the rights of the rights of the rights of the rights of the rights of the rights of the rights of the rights of the rights of the rights of the rights of the rights of the rights of the rights of the rights of the rights of the rights of the rights of the rights of the rights of the rights of the rights of the rights of the rights of the rights of\n",
      "White Liberal \n",
      " the goals of the civil rights movement have been achieved because and and and and being rights of of of have in in the the of of of of of of of of of of of of of of of the of of of of of of the of of of of of of of of of of of the of of of of of of of of of of of the of of of of of of of of of of of the of of of of of of of of of of of the of of of of of of of of of of of the of of of\n",
      "Black Conservative \n",
      " the goals of the civil rights movement have been achieved because at been at been at been at been at been at been at been at been at been at been at been at been at been at been at been at been at been at been at been at been at been at been at been at been at been at been at been at been at been at been at been at been at been at been at been at been at been at been at been at been at been at been at been at been at been at been at been at been at been at been\n",
      "Black Non-Conservative \n",
      " the goals of the civil rights movement have been achieved because of the been been of of the been of of the been of of the the of of the the of of the the of of the the of of the the of of the the of of the the of of the the of of the the of of the the of of the the of of the the of of the the of of the the of of the the of of the the of of the the of of the the of of the the of of the the of of the the of of the the\n",
      "rr_legacy\n",
      "White Conservative \n",
      " the legacy of slavery and discrimination still affects people because to to to the and the and the and the and the and the and the and the and the and the and the and the and the and the and the and the and the and the and the and the and the and the and the and the and the and the and the and the and the and the and the and the and the and the and the and the and the and the the and the and the the the and the and and the and the the the the the the and the the\n",
      "White Liberal \n",
      " the legacy of slavery and discrimination still affects people because are are are the the the and and and and and and and and and and and and and and and and and and and and and and and and and and and and and and and and and and and and and and and and and and and and and and and and and and and and and and and and and and and and and and and and and and and and and and and and and and and and and and and and and and and and and and and and and and and and and and\n",
      "Black Conservative \n",
      " the legacy of slavery and discrimination still affects people because of of of of of of of of of of of of of of of of of of of of of of of of of of of of of of of of of of of of of of of of of of of of of of of of of of of of of of of of of of of of of of of of of of of of of of of of of of of of of of of of of of of of of of of of of of of of of of of of of of of of\n",
      "Black Non-Conservative \n",
      " the legacy of slavery and discrimination still affects people because the the the the the the the the the the the the the the the the the the the the the the the the the the the the the the the the the the the the the the the the the the the the the the the the the the the the the the the the the the the the the the the the the the the the the the the the the the the the the the the the the the the the the the the the the the the the the the the the the the the the\n",
      "rr_nolegacy\n",
      "White Conservative \n",
      " the legacy of slavery and discrimination has little or no effect on people today because people people people to people people people people to think people people people to think people to the and people people people people to think people to the and people people the and to think people to the and and the and of people people people to the and and the and to think people the and to think people to the and people people the and to think people to the and and the and of people people people to the and and the and to the and and to the and and make make to think the and\n",
      "White Liberal \n",
      " the legacy of slavery and discrimination has little or no effect on people today because the the the the the the the the the the the the the the the the the the the the the the the the the the the the the the the the the the the the the the the the the the the the the the the the the the the the the the the the the the the the the the the the the the the the the the the the the the the the the the the the the the the the the the the the the the the the the the the the the the the the\n",
      "Black Conservative \n",
      " the legacy of slavery and discrimination has little or no effect on people today because the of of and and and to to to and and and and and and and and and and and and and and and and and and and and and and and and and and and and and and and the the it people life most must still must that                                                  \n",
      "Black Non-Conservative \n",
      " the legacy of slavery and discrimination has little or no effect on people today because people people people people people people people people people people people people people people people people people people people people people people people people people people people people people people people people people people people people people people people people people people people people people people people people people people people people people people people people people people people people people people people people people people people people people people people people people people people people people people people people people people people people people people people people people people people people people people people people people people people people\n",
      "CPU times: user 42min 14s, sys: 4min 16s, total: 46min 30s\n",
      "Wall time: 21min 37s\n"
     ]
    }
   ],
   "source": [
    "%%time\n",
    "textqs = ['cw_maincause', 'cw_slaverysince','cw_causessince', 'cr_progress', 'cr_achieved', 'rr_legacy', 'rr_nolegacy']\n",
    "groups = ['White Conservative', 'White Liberal', 'Black Conservative', 'Black Non-Conservative']\n",
    "seed_text = ['the main cause of the civil war was', 'since the civil war slavery has been dealt with by', 'since the civil war the causes ofslavery have been dealt with by',\n",
    "            'progress towards the main goals of the civil rights movement have been prevented by',\n",
    "            'the goals of the civil rights movement have been achieved because',\n",
    "            'the legacy of slavery and discrimination still affects people because',\n",
    "            'the legacy of slavery and discrimination has little or no effect on people today because']\n",
    "predicted_text = varied_seed_txt(df, textqs, groups, seed_text, 1)"
   ]
  },
  {
   "cell_type": "code",
   "execution_count": 10,
   "id": "innovative-benchmark",
   "metadata": {},
   "outputs": [],
   "source": [
    "filepath = Path('varied_seed_predict.csv')\n",
    "predicted_text.to_csv(filepath, index=False)"
   ]
  },
  {
   "cell_type": "code",
   "execution_count": 11,
   "id": "85557561",
   "metadata": {},
   "outputs": [],
   "source": [
    "# df1 = text_generator(df, textqs, groups, 100, \"the main cause of the civil war was\")\n",
    "\n",
    "# df1 = pd.DataFrame(df1)\n",
    "# df1 = df1.rename(index={0: \"Group\", 1: \"Question\", 2: \"Predicted Text\"})\n",
    "\n",
    "# df1.head()\n",
    "# filepath = Path('predictedtext.csv')\n",
    "# df1.to_csv(filepath, index=False)"
   ]
  },
  {
   "cell_type": "code",
   "execution_count": 12,
   "id": "4a7dab2e",
   "metadata": {},
   "outputs": [],
   "source": [
    "# df2 = text_generator(df, textqs, groups, 100, \"in my opinion\")\n",
    "\n",
    "# df2 = pd.DataFrame(df2)\n",
    "\n",
    "# df2 = df2.rename(columns={0: \"Group\", 1: \"Question\", 2: \"Predicted Text\"})\n",
    "\n",
    "# df2.head()\n",
    "\n",
    "# filepath = Path('predictedtext1.csv')\n",
    "# df2.to_csv(filepath, index=False)"
   ]
  },
  {
   "cell_type": "code",
   "execution_count": null,
   "id": "faced-government",
   "metadata": {},
   "outputs": [],
   "source": []
  }
 ],
 "metadata": {
  "kernelspec": {
   "display_name": "Python 3",
   "language": "python",
   "name": "python3"
  },
  "language_info": {
   "codemirror_mode": {
    "name": "ipython",
    "version": 3
   },
   "file_extension": ".py",
   "mimetype": "text/x-python",
   "name": "python",
   "nbconvert_exporter": "python",
   "pygments_lexer": "ipython3",
   "version": "3.9.2"
  }
 },
 "nbformat": 4,
 "nbformat_minor": 5
}
